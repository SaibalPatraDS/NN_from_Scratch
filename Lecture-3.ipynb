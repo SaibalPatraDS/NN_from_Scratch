{
 "cells": [
  {
   "cell_type": "markdown",
   "metadata": {},
   "source": [
    "## Coding Multiple `Neural Network layer` and Stacking them together"
   ]
  },
  {
   "cell_type": "code",
   "execution_count": 1,
   "metadata": {},
   "outputs": [],
   "source": [
    "import numpy as np "
   ]
  },
  {
   "cell_type": "code",
   "execution_count": 14,
   "metadata": {},
   "outputs": [
    {
     "name": "stdout",
     "output_type": "stream",
     "text": [
      "Hidden Layer - 1 \n",
      "\n",
      "[[1 0 0 0]\n",
      " [0 1 1 0]\n",
      " [0 1 0 0]] \n",
      " [[1 1 0 0]\n",
      " [1 1 0 0]\n",
      " [0 0 0 1]] \n",
      " [[0]\n",
      " [1]\n",
      " [1]] \n",
      " [[1 1 1]\n",
      " [2 2 2]\n",
      " [1 1 1]]\n",
      "\n",
      "\n",
      "Hidden Layer - 2 \n",
      "\n",
      "[[1 1 1]\n",
      " [2 2 2]\n",
      " [1 1 1]] \n",
      " [[1 0 1]\n",
      " [0 1 1]] \n",
      " [[0]\n",
      " [0]\n",
      " [1]] \n",
      " [[2 2]\n",
      " [4 4]\n",
      " [3 3]]\n",
      "\n",
      "\n",
      "Hidden Layer - 3 \n",
      "\n",
      "[[2 2]\n",
      " [4 4]\n",
      " [3 3]] \n",
      " [[1 0]] \n",
      " [[0]\n",
      " [0]\n",
      " [0]] \n",
      " [[2]\n",
      " [4]\n",
      " [4]]\n",
      "\n",
      "\n"
     ]
    }
   ],
   "source": [
    "## inputs, weights, bias\n",
    "inputs = np.random.randint(0,2,(3,4)) ## inputs\n",
    "weights_1 = np.random.randint(0,2,(3,4)) ## weights - Hidden Layer 1\n",
    "bias_1 = np.random.randint(0,2,(3,1)) ## bias - Hidden Layer 1\n",
    "\n",
    "outputs_1 = np.dot(weights_1, inputs.transpose()) + bias_1\n",
    "print(\"Hidden Layer - 1\", \"\\n\")\n",
    "print(inputs, \"\\n\", weights_1, \"\\n\", bias_1, \"\\n\", outputs_1)\n",
    "print(\"\\n\")\n",
    "weights_2 = np.random.randint(0,2,(2,3)) ## weights - Hidden Layer 2\n",
    "bias_2 = np.random.randint(0,2,(3,1)) ## bias - Hidden Layer 2\n",
    "outputs_2 = np.dot(outputs_1, weights_2.T) + bias_2\n",
    "print(\"Hidden Layer - 2\", \"\\n\")\n",
    "print(outputs_1, \"\\n\", weights_2, \"\\n\", bias_2, \"\\n\", outputs_2)\n",
    "print(\"\\n\")\n",
    "weights_3 = np.random.randint(0,2,(1,2)) ## weights - Hidden Layer 3\n",
    "bias_3 = np.random.randint(0,2,(3,1)) ## bias - Hidden Layer 3\n",
    "outputs_3 = np.dot(outputs_2, weights_3.T) + bias_2\n",
    "print(\"Hidden Layer - 3\", \"\\n\")\n",
    "print(outputs_2, \"\\n\", weights_3, \"\\n\", bias_3, \"\\n\", outputs_3)\n",
    "print(\"\\n\")\n"
   ]
  },
  {
   "cell_type": "code",
   "execution_count": null,
   "metadata": {},
   "outputs": [],
   "source": []
  }
 ],
 "metadata": {
  "kernelspec": {
   "display_name": "py_gpu",
   "language": "python",
   "name": "python3"
  },
  "language_info": {
   "codemirror_mode": {
    "name": "ipython",
    "version": 3
   },
   "file_extension": ".py",
   "mimetype": "text/x-python",
   "name": "python",
   "nbconvert_exporter": "python",
   "pygments_lexer": "ipython3",
   "version": "3.12.2"
  }
 },
 "nbformat": 4,
 "nbformat_minor": 2
}
