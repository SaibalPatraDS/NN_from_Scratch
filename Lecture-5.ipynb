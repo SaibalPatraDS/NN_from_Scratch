{
 "cells": [
  {
   "cell_type": "markdown",
   "metadata": {},
   "source": [
    "## Broadcasting and Array Stimulation in Python"
   ]
  },
  {
   "cell_type": "code",
   "execution_count": 1,
   "metadata": {},
   "outputs": [],
   "source": [
    "import numpy as np"
   ]
  },
  {
   "cell_type": "code",
   "execution_count": 13,
   "metadata": {},
   "outputs": [],
   "source": [
    "## array stimulation\n",
    "A = np.array(\n",
    "    [[1, 2, 3],\n",
    "     [4, 5, 6],\n",
    "     [7, 8, 9]])\n",
    "\n",
    "B = [1, 2, 3]\n"
   ]
  },
  {
   "cell_type": "code",
   "execution_count": 23,
   "metadata": {},
   "outputs": [
    {
     "name": "stdout",
     "output_type": "stream",
     "text": [
      "np.sum(A):  45\n",
      "np.sum(A,axis = None):  45\n",
      "np.sum(A,axis = 1):  [ 6 15 24]\n",
      "Shape of np.sum(A,axis = 1):  (3,)\n",
      "np.sum(A,axis = 0):  [12 15 18]\n",
      "Shape of np.sum(A,axis = 0):  (3,)\n",
      "np.sum(A, axis = 1, keepdims=True): \n",
      " [[ 6]\n",
      " [15]\n",
      " [24]]\n",
      "Shape of np.sum(A, axis = 1, keepdims=True): \n",
      " (3, 1)\n",
      "np.sum(A, axis = 0, keepdims=True):  [[12 15 18]]\n",
      "Shape of np.sum(A, axis = 0, keepdims=True):  (1, 3)\n",
      "np.max(A, axis = 1):  [3 6 9]\n",
      "Shape of np.max(A, axis = 1):  (3,)\n",
      "np.max(A, axis = 0):  [7 8 9]\n",
      "Shape of np.max(A, axis = 0):  (3,)\n",
      "np.max(A, axis = 1, keepdims=True):  [[3]\n",
      " [6]\n",
      " [9]]\n",
      "Shape of np.max(A, axis = 1, keepdims=True):  (3, 1)\n",
      "np.max(A, axis = 0, keepdims=True):  [[7 8 9]]\n",
      "Shape of np.max(A, axis = 0, keepdims=True):  (1, 3)\n"
     ]
    }
   ],
   "source": [
    "## all sum operations\n",
    "print(\"np.sum(A): \",np.sum(A))\n",
    "print(\"np.sum(A,axis = None): \", np.sum(A,axis = None))\n",
    "print(\"np.sum(A,axis = 1): \", np.sum(A,axis = 1))\n",
    "print(\"Shape of np.sum(A,axis = 1): \", np.sum(A,axis = 1).shape)\n",
    "print(\"np.sum(A,axis = 0): \", np.sum(A,axis = 0))\n",
    "print(\"Shape of np.sum(A,axis = 0): \", np.sum(A,axis = 0).shape)\n",
    "print(\"np.sum(A, axis = 1, keepdims=True): \\n\", np.sum(A, axis = 1, keepdims=True))\n",
    "print(\"Shape of np.sum(A, axis = 1, keepdims=True): \\n\", np.sum(A, axis = 1, keepdims=True).shape)\n",
    "print(\"np.sum(A, axis = 0, keepdims=True): \", np.sum(A, axis = 0, keepdims=True))\n",
    "print(\"Shape of np.sum(A, axis = 0, keepdims=True): \", np.sum(A, axis = 0, keepdims=True).shape)\n",
    "print(\"np.max(A, axis = 1): \", np.max(A, axis = 1))\n",
    "print(\"Shape of np.max(A, axis = 1): \", np.max(A, axis = 1).shape)\n",
    "print(\"np.max(A, axis = 0): \", np.max(A, axis = 0))\n",
    "print(\"Shape of np.max(A, axis = 0): \", np.max(A, axis = 0).shape)\n",
    "print(\"np.max(A, axis = 1, keepdims=True): \", np.max(A, axis = 1, keepdims=True))\n",
    "print(\"Shape of np.max(A, axis = 1, keepdims=True): \", np.max(A, axis = 1, keepdims=True).shape)\n",
    "print(\"np.max(A, axis = 0, keepdims=True): \", np.max(A, axis = 0, keepdims=True))\n",
    "print(\"Shape of np.max(A, axis = 0, keepdims=True): \", np.max(A, axis = 0, keepdims=True).shape)"
   ]
  },
  {
   "cell_type": "code",
   "execution_count": null,
   "metadata": {},
   "outputs": [],
   "source": []
  }
 ],
 "metadata": {
  "kernelspec": {
   "display_name": "py_gpu",
   "language": "python",
   "name": "python3"
  },
  "language_info": {
   "codemirror_mode": {
    "name": "ipython",
    "version": 3
   },
   "file_extension": ".py",
   "mimetype": "text/x-python",
   "name": "python",
   "nbconvert_exporter": "python",
   "pygments_lexer": "ipython3",
   "version": "3.12.2"
  }
 },
 "nbformat": 4,
 "nbformat_minor": 2
}
