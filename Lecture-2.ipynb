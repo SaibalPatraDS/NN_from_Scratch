{
 "cells": [
  {
   "cell_type": "markdown",
   "id": "22bb1b6d-8ec6-4f07-83f7-8942a26af146",
   "metadata": {},
   "source": [
    "## Beauty of `Numpy` and `Dot Product`"
   ]
  },
  {
   "cell_type": "code",
   "execution_count": null,
   "id": "27101d70-bce5-4c02-a781-1122040abc74",
   "metadata": {},
   "outputs": [],
   "source": [
    "import numpy as np"
   ]
  },
  {
   "cell_type": "markdown",
   "id": "480ac26b",
   "metadata": {},
   "source": [
    "### Implementing `Neuron` from Scratch"
   ]
  },
  {
   "cell_type": "code",
   "execution_count": 4,
   "id": "4f609c96-9fe8-4172-a299-be6be1f6ecc9",
   "metadata": {},
   "outputs": [
    {
     "data": {
      "text/plain": [
       "(array([1, 0, 1, 1]),\n",
       " array([0, 0, 0, 0]),\n",
       " array([0.38110957]),\n",
       " array([0.38110957]))"
      ]
     },
     "execution_count": 4,
     "metadata": {},
     "output_type": "execute_result"
    }
   ],
   "source": [
    "## inputs and weights to be defined\n",
    "inputs = np.random.randint(0.5,2,4)\n",
    "weights = np.random.randint(0.5,2.5,4)\n",
    "bias = np.random.rand(1)\n",
    "\n",
    "outputs = np.dot(inputs, weights) + bias\n",
    "inputs, weights, bias, outputs"
   ]
  },
  {
   "cell_type": "markdown",
   "id": "d2f6dcea",
   "metadata": {},
   "source": [
    "### Implementing `Layers` from Scratch"
   ]
  },
  {
   "cell_type": "code",
   "execution_count": 5,
   "id": "7049168b",
   "metadata": {},
   "outputs": [
    {
     "data": {
      "text/plain": [
       "(array([[1],\n",
       "        [1],\n",
       "        [1],\n",
       "        [1]]),\n",
       " array([[1, 1, 1, 1],\n",
       "        [1, 1, 1, 1],\n",
       "        [1, 1, 1, 1]]),\n",
       " array([[1],\n",
       "        [0],\n",
       "        [0]]),\n",
       " array([[5],\n",
       "        [4],\n",
       "        [4]]))"
      ]
     },
     "execution_count": 5,
     "metadata": {},
     "output_type": "execute_result"
    }
   ],
   "source": [
    "inputs = np.random.randint(1,2,(4,1)) ##neurons\n",
    "weights = np.random.randint(1,2,(3,4)) ## weights\n",
    "bias = np.random.randint(0,2,(3,1)) ##bias\n",
    "outputs = np.dot(weights, inputs)\n",
    "inputs, weights, bias, outputs+bias\n"
   ]
  },
  {
   "cell_type": "code",
   "execution_count": 6,
   "id": "e211a006",
   "metadata": {},
   "outputs": [
    {
     "data": {
      "text/plain": [
       "(array([[1, 1, 1, 1]]),\n",
       " array([[1, 1, 1, 1],\n",
       "        [1, 1, 1, 1],\n",
       "        [1, 1, 1, 1]]),\n",
       " array([[1, 1, 1]]),\n",
       " array([[5, 5, 5]]))"
      ]
     },
     "execution_count": 6,
     "metadata": {},
     "output_type": "execute_result"
    }
   ],
   "source": [
    "inputs = np.random.randint(1,2,(1,4)) ##neurons\n",
    "weights = np.random.randint(1,2,(3,4)) ## weights\n",
    "bias = np.random.randint(0,2,(1,3)) ##bias\n",
    "outputs = np.dot(inputs, weights.T)\n",
    "inputs, weights, bias, outputs+bias"
   ]
  },
  {
   "cell_type": "markdown",
   "id": "e4593329",
   "metadata": {},
   "source": [
    "### Implementing `Batch` from Scratch"
   ]
  },
  {
   "cell_type": "code",
   "execution_count": 10,
   "id": "f4626e62",
   "metadata": {},
   "outputs": [
    {
     "data": {
      "text/plain": [
       "(array([[1, 0, 1],\n",
       "        [1, 1, 1],\n",
       "        [1, 0, 0],\n",
       "        [0, 0, 1]]),\n",
       " array([[1, 0, 0, 1],\n",
       "        [1, 1, 0, 0],\n",
       "        [0, 1, 1, 1]]),\n",
       " array([[1],\n",
       "        [0],\n",
       "        [0]]),\n",
       " array([[2, 1, 3],\n",
       "        [2, 1, 2],\n",
       "        [2, 1, 2]]))"
      ]
     },
     "execution_count": 10,
     "metadata": {},
     "output_type": "execute_result"
    }
   ],
   "source": [
    "inputs = np.random.randint(0,2,(4,3)) ## inputs [Different Inputs]\n",
    "weights = np.random.randint(0,2,(3,4)) ## Weights [Different Weights]\n",
    "bias = np.random.randint(0,2,(3,1)) ## bias\n",
    "\n",
    "outputs = np.dot(weights, inputs) + bias\n",
    "inputs, weights, bias, outputs"
   ]
  },
  {
   "cell_type": "code",
   "execution_count": null,
   "id": "59cbc429",
   "metadata": {},
   "outputs": [],
   "source": []
  }
 ],
 "metadata": {
  "kernelspec": {
   "display_name": "py_gpu",
   "language": "python",
   "name": "python3"
  },
  "language_info": {
   "codemirror_mode": {
    "name": "ipython",
    "version": 3
   },
   "file_extension": ".py",
   "mimetype": "text/x-python",
   "name": "python",
   "nbconvert_exporter": "python",
   "pygments_lexer": "ipython3",
   "version": "3.12.2"
  },
  "widgets": {
   "application/vnd.jupyter.widget-state+json": {
    "state": {},
    "version_major": 2,
    "version_minor": 0
   }
  }
 },
 "nbformat": 4,
 "nbformat_minor": 5
}
