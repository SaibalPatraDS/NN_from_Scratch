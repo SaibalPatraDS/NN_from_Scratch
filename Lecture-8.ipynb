{
 "cells": [
  {
   "cell_type": "markdown",
   "metadata": {},
   "source": [
    "## Coding `Categorical` Cross Entropy in Python"
   ]
  },
  {
   "cell_type": "code",
   "execution_count": 1,
   "metadata": {},
   "outputs": [],
   "source": [
    "import numpy as np"
   ]
  },
  {
   "cell_type": "markdown",
   "metadata": {},
   "source": [
    "### Categorical Cross Entropy Implementation"
   ]
  },
  {
   "cell_type": "markdown",
   "metadata": {},
   "source": [
    "#### `Case - 1`\n",
    "\n",
    "Outputs are Numerical Number Representation of the class, `Label Encoding`"
   ]
  },
  {
   "cell_type": "markdown",
   "metadata": {},
   "source": [
    "*softmax_outputs* -> Output Received after `SoftMax` Function operation.\n",
    "\n",
    "*class_targets* -> Actual Class Levels"
   ]
  },
  {
   "cell_type": "code",
   "execution_count": 26,
   "metadata": {},
   "outputs": [
    {
     "name": "stdout",
     "output_type": "stream",
     "text": [
      "Class SoftMax Outputs :  [0.7 0.5 0.9]\n",
      "Log of Class SoftMax Outputs :  [0.35667494 0.69314718 0.10536052]\n",
      "Mean Categorical Cross Loss :  0.38506088005216804\n"
     ]
    }
   ],
   "source": [
    "softmax_outputs = np.array([\n",
    "    [0.7, 0.1, 0.2],\n",
    "    [0.1, 0.5, 0.4],\n",
    "    [0.02, 0.9, 0.08]\n",
    "])\n",
    "class_targets = np.array([0, 1, 1])\n",
    "\n",
    "# categorical_loss = np.mean(-np.log(softmax_outputs[range(len(softmax_outputs)), class_targets]))\n",
    "# print(categorical_loss)\n",
    "\n",
    "class_softmax_outputs = softmax_outputs[range(len(softmax_outputs)), class_targets]\n",
    "print(\"Class SoftMax Outputs : \", class_softmax_outputs)\n",
    "log_class_softmax_outputs = -np.log(class_softmax_outputs)\n",
    "print(\"Log of Class SoftMax Outputs : \", log_class_softmax_outputs)\n",
    "mean_categorical_loss = np.mean(log_class_softmax_outputs)\n",
    "print(\"Mean Categorical Cross Loss : \", mean_categorical_loss)"
   ]
  },
  {
   "cell_type": "markdown",
   "metadata": {},
   "source": [
    "#### `Case - 2`\n",
    "\n",
    "Outputs are Numerical Number Representation of the class, `One-Hot Encoding`"
   ]
  },
  {
   "cell_type": "markdown",
   "metadata": {},
   "source": [
    "*softmax_outputs* -> Output Received after `SoftMax` Function operation.\n",
    "\n",
    "*class_targets* -> One-Hot Encoded Actual Class Labels`(0/1)`"
   ]
  },
  {
   "cell_type": "code",
   "execution_count": 33,
   "metadata": {},
   "outputs": [
    {
     "name": "stdout",
     "output_type": "stream",
     "text": [
      "Class SoftMax Outputs :  [[0.7 0.  0. ]\n",
      " [0.  0.5 0. ]\n",
      " [0.  0.9 0. ]]\n",
      "Log of Class SoftMax Outputs :  [0.35667494 0.69314718 0.10536052]\n",
      "Mean Categorical Cross Loss :  0.38506088005216804\n"
     ]
    }
   ],
   "source": [
    "softmax_outputs = np.array([\n",
    "    [0.7, 0.1, 0.2],\n",
    "    [0.1, 0.5, 0.4],\n",
    "    [0.02, 0.9, 0.08]\n",
    "])\n",
    "class_targets = np.array([\n",
    "    [1, 0, 0],\n",
    "    [0, 1, 0],\n",
    "    [0, 1, 0] \n",
    "])\n",
    "## elementwise Multiplication\n",
    "class_softmax_outputs = np.multiply(softmax_outputs, class_targets)\n",
    "print(\"Class SoftMax Outputs : \", class_softmax_outputs)\n",
    "log_class_softmax_outputs = -np.log(np.sum(class_softmax_outputs,axis = 1))\n",
    "print(\"Log of Class SoftMax Outputs : \", log_class_softmax_outputs)\n",
    "mean_categorical_loss = np.mean(log_class_softmax_outputs)\n",
    "print(\"Mean Categorical Cross Loss : \", mean_categorical_loss)"
   ]
  },
  {
   "cell_type": "markdown",
   "metadata": {},
   "source": [
    "### Implementation of `Loss Function`"
   ]
  },
  {
   "cell_type": "code",
   "execution_count": 44,
   "metadata": {},
   "outputs": [],
   "source": [
    "## Implementation of Loss Function Depending on CategoricalLossFunction\n",
    "class Loss:\n",
    "    def loss_value(self, output, y):\n",
    "        '''\n",
    "        Calling the Forward Function from CategoricalLossFunction and Calculating the Loss Value \n",
    "        And Returning the Mean of Loss Values\n",
    "        output -> y_pred,\n",
    "        y -> y_true\n",
    "        '''\n",
    "        loss = self.forward(output, y)\n",
    "        ## Returning the Mean of Losses\n",
    "        return np.mean(loss)\n",
    "\n"
   ]
  },
  {
   "cell_type": "code",
   "execution_count": 47,
   "metadata": {},
   "outputs": [],
   "source": [
    "class CategoricalLossFunction(Loss):\n",
    "    def forward(self, y_pred, y_true):\n",
    "        '''\n",
    "        y_pred -> Predicted Class Labels\n",
    "        y_true -> Actual CLass Labels\n",
    "        '''\n",
    "        class_target = len(y_true) ## Length of Class Labels\n",
    "        y_pred_clipped = np.clip(y_pred, 1e-7, 1-1e-7) ## Clipped Value of the predicted Class \n",
    "        '''\n",
    "        Clipping to Prevent taking log of 0 or log of 1\n",
    "        '''\n",
    "        if len(y_true.shape) == 1:\n",
    "            negative_log_likelihood = -np.log(y_pred_clipped[range(class_target), y_true])\n",
    "            return negative_log_likelihood\n",
    "        elif len(y_true.shape) == 2:\n",
    "            negative_log_likelihood = -np.log(np.sum(y_pred_clipped*y_true,axis = 1))\n",
    "            return negative_log_likelihood\n"
   ]
  },
  {
   "cell_type": "code",
   "execution_count": 52,
   "metadata": {},
   "outputs": [
    {
     "name": "stdout",
     "output_type": "stream",
     "text": [
      "Categorical Cross Entropy Loss : 0.38506088005216804\n",
      "Categorical Loss Weight Values : [0.35667494 0.69314718 0.10536052]\n"
     ]
    }
   ],
   "source": [
    "## Checking the Loss Function\n",
    "class_targets = np.array([\n",
    "    [1, 0, 0],\n",
    "    [0, 1, 0],\n",
    "    [0, 1, 0]\n",
    "])\n",
    "softmax_outputs = np.array([\n",
    "    [0.7, 0.1, 0.2], \n",
    "    [0.1, 0.5, 0.4],\n",
    "    [0.01, 0.9, 0.09]\n",
    "])\n",
    "\n",
    "## creating instance of CategoricalCrossEntropy\n",
    "categorical_cross_entropy = CategoricalLossFunction()\n",
    "## finding the Loss Value\n",
    "categorical_cross_entropy_loss = categorical_cross_entropy.loss_value(output=softmax_outputs,\n",
    "                                     y = class_targets)\n",
    "print(f\"Categorical Cross Entropy Loss : {categorical_cross_entropy_loss}\")\n",
    "categorical_cross_entropy_weights = categorical_cross_entropy.forward(y_pred=softmax_outputs,\n",
    "                                  y_true=class_targets)\n",
    "print(f\"Categorical Loss Weight Values : {categorical_cross_entropy_weights}\")"
   ]
  },
  {
   "cell_type": "code",
   "execution_count": null,
   "metadata": {},
   "outputs": [],
   "source": []
  }
 ],
 "metadata": {
  "kernelspec": {
   "display_name": "py_gpu",
   "language": "python",
   "name": "python3"
  },
  "language_info": {
   "codemirror_mode": {
    "name": "ipython",
    "version": 3
   },
   "file_extension": ".py",
   "mimetype": "text/x-python",
   "name": "python",
   "nbconvert_exporter": "python",
   "pygments_lexer": "ipython3",
   "version": "3.12.2"
  }
 },
 "nbformat": 4,
 "nbformat_minor": 2
}
