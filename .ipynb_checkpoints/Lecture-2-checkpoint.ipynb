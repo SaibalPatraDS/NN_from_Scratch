{
 "cells": [
  {
   "cell_type": "markdown",
   "id": "22bb1b6d-8ec6-4f07-83f7-8942a26af146",
   "metadata": {},
   "source": [
    "## Beauty of `Numpy` and `Dot Product`"
   ]
  },
  {
   "cell_type": "code",
   "execution_count": null,
   "id": "27101d70-bce5-4c02-a781-1122040abc74",
   "metadata": {},
   "outputs": [],
   "source": [
    "import pandas as pd"
   ]
  }
 ],
 "metadata": {
  "kernelspec": {
   "display_name": "Python 3 (ipykernel)",
   "language": "python",
   "name": "python3"
  },
  "language_info": {
   "codemirror_mode": {
    "name": "ipython",
    "version": 3
   },
   "file_extension": ".py",
   "mimetype": "text/x-python",
   "name": "python",
   "nbconvert_exporter": "python",
   "pygments_lexer": "ipython3",
   "version": "3.12.2"
  },
  "widgets": {
   "application/vnd.jupyter.widget-state+json": {
    "state": {},
    "version_major": 2,
    "version_minor": 0
   }
  }
 },
 "nbformat": 4,
 "nbformat_minor": 5
}
